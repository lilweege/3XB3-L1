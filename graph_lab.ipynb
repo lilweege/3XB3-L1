{
 "cells": [
  {
   "cell_type": "markdown",
   "id": "2d65a8a5-860e-41d8-ac27-fabb65da8243",
   "metadata": {},
   "source": [
    "# Graph Lab"
   ]
  },
  {
   "cell_type": "markdown",
   "id": "0287692e-0294-4c54-8ad3-c8d8425ab85c",
   "metadata": {},
   "source": [
    "## Header information:\n",
    "\n",
    "  - Author #1: Luigi Quattrociocchi (quattrl@mcmaster.ca)\n",
    "  - Author #2: Dennis Fong (fongd1@mcmaster.ca)\n",
    "  - Gitlab URL: http://gitlab.cas.mcmaster.ca/quattrl/l1-graph-lab\n",
    "  - Avenue to Learn group name: Graph 42"
   ]
  },
  {
   "cell_type": "code",
   "execution_count": 1,
   "id": "16666f03-45e8-4f68-b9d4-7ad8af53b96e",
   "metadata": {},
   "outputs": [],
   "source": [
    "# import matplotlib.pyplot as plt\n",
    "# from matplotlib.ticker import MaxNLocator\n",
    "from csv_reader import *\n",
    "from graph_builder import build_graph_from_csvs\n",
    "from metric_extractor import *"
   ]
  },
  {
   "cell_type": "code",
   "execution_count": 2,
   "id": "d930eca9-bac7-44ed-b626-037b948c8a9b",
   "metadata": {},
   "outputs": [
    {
     "name": "stdout",
     "output_type": "stream",
     "text": [
      "metrics.num_nodes() = 304\n",
      "metrics.num_edges() = 406\n",
      "avg_degree = 2.6710526315789473\n"
     ]
    }
   ],
   "source": [
    "G = build_graph_from_csvs(\"_dataset/london\")\n",
    "metrics = GraphMetrics(G)\n",
    "print(f\"{metrics.num_nodes() = }\")\n",
    "print(f\"{metrics.num_edges() = }\")\n",
    "degrees = [metrics.degree(x) for x in range(len(G.adj))]\n",
    "avg_degree = sum(degrees) / len(degrees)\n",
    "print(f\"{avg_degree = }\")\n",
    "\n",
    "# N = max(degrees) + 1\n",
    "# fig, ax = plt.subplots(1, 1)\n",
    "# N, bins, patches = ax.hist(degrees, bins=N, range=(0, N))\n",
    "# ax.yaxis.set_major_locator(MaxNLocator(integer=True))\n",
    "# _ = plt.xlabel(\"Degree\")\n",
    "# _ = plt.ylabel(\"Number of Nodes\")\n"
   ]
  },
  {
   "cell_type": "code",
   "execution_count": 5,
   "id": "f6ab3952-e52a-4a02-aa41-00f109053983",
   "metadata": {},
   "outputs": [
    {
     "name": "stdout",
     "output_type": "stream",
     "text": [
      "0.2537250518798828 0.614661693572998\n"
     ]
    }
   ],
   "source": [
    "\n",
    "# TODO: don't use these functions!\n",
    "# Make a class to store all information from csvs,\n",
    "# and create mapping from id to name, and vice versa\n",
    "def get_name_of_id(name):\n",
    "    stations = read_csv_contents(f\"_dataset/london.stations.csv\")\n",
    "    for station in stations:\n",
    "        if name == station.name: return station.id\n",
    "    return -1\n",
    "def get_id_of_name(u):\n",
    "    stations = read_csv_contents(f\"_dataset/london.stations.csv\")\n",
    "    for station in stations:\n",
    "        if u == station.id: return station.name\n",
    "    return \"\"\n",
    "\n",
    "n1 = \"Hanwell\"\n",
    "n2 = \"Stratford\"\n",
    "u = get_name_of_id(n1)\n",
    "v = get_name_of_id(n2)\n",
    "\n",
    "# TODO: make an actual benchmark, not this very sad piece of code\n",
    "import time\n",
    "a, b = 0, 0\n",
    "for _ in range(1000):\n",
    "    t0 = time.time()\n",
    "    it = Itinerary(u, v)\n",
    "    it.set_search_strategy(metrics.dijkstras)\n",
    "    p1 = it.shortest_path(1, 1, 1)\n",
    "    t1 = time.time()\n",
    "    a += t1 - t0\n",
    "    t0 = time.time()\n",
    "    it = Itinerary(u, v)\n",
    "    it.set_search_strategy(metrics.astar)\n",
    "    p2 = it.shortest_path(1, 1, 1)\n",
    "    t1 = time.time()\n",
    "    b += t1 - t0\n",
    "    assert p1 == p2\n",
    "print(a, b)"
   ]
  }
 ],
 "metadata": {
  "kernelspec": {
   "display_name": "Python 3 (ipykernel)",
   "language": "python",
   "name": "python3"
  },
  "language_info": {
   "codemirror_mode": {
    "name": "ipython",
    "version": 3
   },
   "file_extension": ".py",
   "mimetype": "text/x-python",
   "name": "python",
   "nbconvert_exporter": "python",
   "pygments_lexer": "ipython3",
   "version": "3.9.0"
  }
 },
 "nbformat": 4,
 "nbformat_minor": 5
}
