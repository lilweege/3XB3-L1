{
 "cells": [
  {
   "cell_type": "markdown",
   "id": "2d65a8a5-860e-41d8-ac27-fabb65da8243",
   "metadata": {},
   "source": [
    "# Graph Lab"
   ]
  },
  {
   "cell_type": "markdown",
   "id": "0287692e-0294-4c54-8ad3-c8d8425ab85c",
   "metadata": {},
   "source": [
    "## Header information:\n",
    "\n",
    "  - Author #1: Luigi Quattrociocchi (quattrl@mcmaster.ca)\n",
    "  - Author #2: Dennis Fong (fongd1@mcmaster.ca)\n",
    "  - Gitlab URL: http://gitlab.cas.mcmaster.ca/quattrl/l1-graph-lab\n",
    "  - Avenue to Learn group name: Graph 42"
   ]
  },
  {
   "cell_type": "markdown",
   "id": "ba481e3a-6f70-4e62-9a81-7178abaeb8c1",
   "metadata": {
    "tags": []
   },
   "source": [
    "## Week 1"
   ]
  },
  {
   "cell_type": "code",
   "execution_count": 1,
   "id": "16666f03-45e8-4f68-b9d4-7ad8af53b96e",
   "metadata": {
    "tags": []
   },
   "outputs": [],
   "source": [
    "# Build a graph from the csv files\n",
    "from graphlib.builders import TubemapCSVBuilder\n",
    "\n",
    "tubemap_builder = TubemapCSVBuilder()\n",
    "tubemap_graph = tubemap_builder.build(\"_dataset/london.stations.csv\", \"_dataset/london.connections.csv\", \"_dataset/london.lines.csv\")"
   ]
  },
  {
   "cell_type": "code",
   "execution_count": 2,
   "id": "d930eca9-bac7-44ed-b626-037b948c8a9b",
   "metadata": {},
   "outputs": [
    {
     "name": "stdout",
     "output_type": "stream",
     "text": [
      "Number of nodes = 302\n",
      "Number of edges = 406\n",
      "Average node degree = 2.6887417218543046\n"
     ]
    }
   ],
   "source": [
    "# Compute some metrics about the graph\n",
    "from graphlib.metrics import NumberOfNodesMetric, NumberOfEdgesMetric, DegreeMetric\n",
    "\n",
    "print(f\"Number of nodes = {NumberOfNodesMetric(tubemap_graph)()}\")\n",
    "print(f\"Number of edges = {NumberOfEdgesMetric(tubemap_graph)()}\")\n",
    "\n",
    "node_degrees = [DegreeMetric(tubemap_graph, x)() for x in tubemap_graph.adj]\n",
    "avg_degree = sum(node_degrees) / len(node_degrees)\n",
    "print(f\"Average node degree = {avg_degree}\")"
   ]
  },
  {
   "cell_type": "code",
   "execution_count": 3,
   "id": "5f337981-9bbe-43c8-b00c-081b7cf15d7e",
   "metadata": {},
   "outputs": [
    {
     "data": {
      "image/png": "[encoded data removed]",
      "text/plain": [
       "<Figure size 640x480 with 1 Axes>"
      ]
     },
     "metadata": {},
     "output_type": "display_data"
    }
   ],
   "source": [
    "# Draw the distribution of node degrees\n",
    "import matplotlib.pyplot as plt\n",
    "from matplotlib.ticker import MaxNLocator\n",
    "\n",
    "N = max(node_degrees) + 1\n",
    "fig, ax = plt.subplots(1, 1)\n",
    "N, bins, patches = ax.hist(node_degrees, bins=N, range=(0, N))\n",
    "ax.yaxis.set_major_locator(MaxNLocator(integer=True))\n",
    "_ = plt.xlabel(\"Degree\")\n",
    "_ = plt.ylabel(\"Number of Nodes\")"
   ]
  },
  {
   "cell_type": "code",
   "execution_count": 4,
   "id": "f6ab3952-e52a-4a02-aa41-00f109053983",
   "metadata": {},
   "outputs": [],
   "source": [
    "# Benchmark\n",
    "from graphlib.metrics import TubemapItinerary\n",
    "from graphlib.metrics.paths import EuclidianDistanceShortestPathMetric, DijkstraShortestPathMetric\n",
    "\n",
    "start_name, end_name = \"Hammersmith\", \"Stratford\"\n",
    "u = tubemap_builder.name_to_id[start_name]\n",
    "v = tubemap_builder.name_to_id[end_name]\n",
    "\n",
    "dijkstra = DijkstraShortestPathMetric(tubemap_graph)\n",
    "astar = EuclidianDistanceShortestPathMetric(tubemap_graph)\n",
    "\n",
    "itinerary = TubemapItinerary(u, v)\n",
    "\n",
    "itinerary.set_search_strategy(dijkstra)\n",
    "p1 = itinerary.shortest_path()\n",
    "\n",
    "itinerary.set_search_strategy(astar)\n",
    "p2 = itinerary.shortest_path()\n",
    "\n",
    "# TODO: Benchmark\n",
    "assert p1 == p2\n",
    "\n",
    "# print(dijk._edges_counter, dijk._nodes_counter, dijk._relaxation_counter)\n",
    "# print(eucl._edges_counter, eucl._nodes_counter, eucl._relaxation_counter)\n"
   ]
  },
  {
   "cell_type": "markdown",
   "id": "ac67e9e4-65f4-4333-858e-60ed5cc045c6",
   "metadata": {
    "tags": []
   },
   "source": [
    "### TODO\n",
    "Class diagram ...  \n",
    "Justify design choices ...  \n",
    "Present benchmarks ...  \n",
    "Describe work distribution ...  "
   ]
  },
  {
   "cell_type": "markdown",
   "id": "165d0021-4b42-4533-b518-05ca5b81a012",
   "metadata": {},
   "source": [
    "## Week 2"
   ]
  },
  {
   "cell_type": "markdown",
   "id": "ac30558d-fde9-4533-a870-afb3295b5d73",
   "metadata": {},
   "source": [
    "## Week 3"
   ]
  }
 ],
 "metadata": {
  "kernelspec": {
   "display_name": "Python 3 (ipykernel)",
   "language": "python",
   "name": "python3"
  },
  "language_info": {
   "codemirror_mode": {
    "name": "ipython",
    "version": 3
   },
   "file_extension": ".py",
   "mimetype": "text/x-python",
   "name": "python",
   "nbconvert_exporter": "python",
   "pygments_lexer": "ipython3",
   "version": "3.9.0"
  }
 },
 "nbformat": 4,
 "nbformat_minor": 5
}
